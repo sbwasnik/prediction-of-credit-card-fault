{
 "cells": [
  {
   "cell_type": "code",
   "execution_count": 1,
   "id": "43c413b9",
   "metadata": {},
   "outputs": [],
   "source": [
    "# Importing the necessary libraries\n",
    "import numpy as np\n",
    "import pandas as pd\n",
    "import seaborn as sns\n",
    "import matplotlib.pyplot as plt\n",
    "import matplotlib.gridspec as gridspec\n",
    "\n",
    "#Classifier Libraries\n",
    "from sklearn.model_selection import train_test_split, KFold, cross_val_score\n",
    "from sklearn.linear_model import LogisticRegression\n",
    "from sklearn.ensemble import RandomForestClassifier\n",
    "from sklearn.metrics import classification_report, precision_score, recall_score, f1_score, fbeta_score, confusion_matrix, precision_recall_curve, accuracy_score, auc\n",
    "from sklearn.utils import resample\n",
    "from sklearn.model_selection import learning_curve"
   ]
  },
  {
   "cell_type": "code",
   "execution_count": 2,
   "id": "f27bd3de",
   "metadata": {},
   "outputs": [],
   "source": [
    "# ignore warnings\n",
    "\n",
    "import warnings\n",
    "warnings.filterwarnings(\"ignore\")"
   ]
  },
  {
   "cell_type": "code",
   "execution_count": 3,
   "id": "a649a049",
   "metadata": {},
   "outputs": [],
   "source": [
    "#Load the dataset\n",
    "\n",
    "df = pd.read_csv('../data/updated_creditcard.csv')"
   ]
  },
  {
   "cell_type": "markdown",
   "id": "8a56adc1",
   "metadata": {},
   "source": [
    "## Model Training"
   ]
  },
  {
   "cell_type": "code",
   "execution_count": 4,
   "id": "d4cfd021",
   "metadata": {},
   "outputs": [],
   "source": [
    "x = df.drop('Class', axis = 'columns')\n",
    "y = df['Class']"
   ]
  },
  {
   "cell_type": "code",
   "execution_count": 5,
   "id": "2aef34f4",
   "metadata": {},
   "outputs": [],
   "source": [
    "#Spliting the data into training and testing dataset\n",
    "#25% of data will be used in testing, and 75% in training\n",
    "\n",
    "x_train, x_test, y_train, y_test = train_test_split(x, y, test_size = 0.25, random_state = 42)"
   ]
  },
  {
   "cell_type": "markdown",
   "id": "a7a6e484",
   "metadata": {},
   "source": [
    "## Model Selection"
   ]
  },
  {
   "cell_type": "markdown",
   "id": "61d49dc7",
   "metadata": {},
   "source": [
    "### Logistic Regression"
   ]
  },
  {
   "cell_type": "markdown",
   "id": "f912b969",
   "metadata": {},
   "source": [
    "**Logistic Regression for Binary Classification:**<br>\n",
    "Logistic regression, tailored for binary classification, employs the logistic function to model class probabilities. Unlike assuming a Gaussian distribution for numeric input variables, logistic regression is versatile and doesn't rely on specific data distribution assumptions.\n",
    "\n",
    "In Python, you can easily implement logistic regression using the `LogisticRegression` class from libraries like scikit-learn. This implementation provides a straightforward and effective way to build a binary classification model, making it a popular choice for various machine learning tasks.\n"
   ]
  },
  {
   "cell_type": "code",
   "execution_count": 6,
   "id": "57976d90",
   "metadata": {},
   "outputs": [],
   "source": [
    "lr_model = LogisticRegression()\n",
    "lr_model.fit(x_train, y_train)\n",
    "y_pred = lr_model.predict(x_test)"
   ]
  },
  {
   "cell_type": "code",
   "execution_count": 7,
   "id": "364d9df8",
   "metadata": {},
   "outputs": [
    {
     "name": "stdout",
     "output_type": "stream",
     "text": [
      "              precision    recall  f1-score   support\n",
      "\n",
      "           0       1.00      1.00      1.00     70820\n",
      "           1       0.72      0.61      0.66       112\n",
      "\n",
      "    accuracy                           1.00     70932\n",
      "   macro avg       0.86      0.80      0.83     70932\n",
      "weighted avg       1.00      1.00      1.00     70932\n",
      "\n"
     ]
    }
   ],
   "source": [
    "#To print classification report for logistic model\n",
    "\n",
    "print(classification_report(y_test, y_pred))"
   ]
  },
  {
   "cell_type": "markdown",
   "id": "cffa1ff8",
   "metadata": {},
   "source": [
    "**Model Performance Evaluation:**<br>\n",
    "The model exhibits outstanding precision and recall for class 0 (Normal Transaction), correctly identifying all instances and resulting in an F1-score of 1.00. However, for class 1 (Fraud Transaction), precision and recall are lower, indicating some misclassification and yielding an F1-score of 0.66. The overall accuracy remains high at 1.00, owing to the dominance of class 0 instances in the dataset.\n",
    "\n",
    "While the model demonstrates excellent performance for the majority class, there is room for improvement in correctly identifying instances of the minority class. Addressing the imbalance and enhancing the model's sensitivity to fraudulent transactions could lead to a more balanced and effective classification framework.\n"
   ]
  },
  {
   "cell_type": "code",
   "execution_count": 8,
   "id": "454a0b24",
   "metadata": {},
   "outputs": [
    {
     "name": "stdout",
     "output_type": "stream",
     "text": [
      "[[70794    26]\n",
      " [   44    68]]\n"
     ]
    }
   ],
   "source": [
    "print(confusion_matrix(y_test, y_pred))"
   ]
  },
  {
   "cell_type": "code",
   "execution_count": 9,
   "id": "2adcc767",
   "metadata": {},
   "outputs": [
    {
     "data": {
      "image/png": "[encoded data removed]",
      "text/plain": [
       "<Figure size 640x480 with 2 Axes>"
      ]
     },
     "metadata": {},
     "output_type": "display_data"
    }
   ],
   "source": [
    "sns.heatmap(confusion_matrix(y_test, y_pred), annot=True, linecolor='white', fmt='d', linewidths=1)\n",
    "\n",
    "plt.title('Confusion Matrix for Logistic Regression')\n",
    "plt.show()"
   ]
  },
  {
   "cell_type": "markdown",
   "id": "29e36a5f",
   "metadata": {},
   "source": [
    "**Confusion Matrix:**\n",
    "- True Positive (TP): 68 (correctly predicted as positive)\n",
    "- True Negative (TN): 70794 (correctly predicted as negative)\n",
    "- False Positive (FP): 26 (incorrectly predicted as positive)\n",
    "- False Negative (FN): 44 (incorrectly predicted as negative)\n"
   ]
  },
  {
   "cell_type": "code",
   "execution_count": 10,
   "id": "ec90a6c5",
   "metadata": {},
   "outputs": [
    {
     "name": "stdout",
     "output_type": "stream",
     "text": [
      "accuracy: 0.9990131393447246\n",
      "precision: 0.723404255319149\n",
      "recall: 0.6071428571428571\n",
      "f1 score: 0.6601941747572816\n"
     ]
    }
   ],
   "source": [
    "print(\"accuracy: {}\".format(accuracy_score(y_test, y_pred)))\n",
    "print(\"precision: {}\".format(precision_score(y_test, y_pred)))\n",
    "print(\"recall: {}\".format(recall_score(y_test, y_pred))) \n",
    "print(f\"f1 score: {f1_score(y_test, y_pred)}\")"
   ]
  },
  {
   "cell_type": "markdown",
   "id": "91609f68",
   "metadata": {},
   "source": [
    "**Model Evaluation Summary:**<br>\n",
    "The results suggest that while the model has a strong overall performance and precision, there is room for improvement in recall, indicating a potential for the model to better capture positive instances. In conclusion, the logistic regression model is accurate and precise, but efforts could be made to enhance its sensitivity to positive cases. This insight provides valuable guidance for further model refinement and optimization to achieve a more balanced and effective classification outcome.\n"
   ]
  },
  {
   "cell_type": "code",
   "execution_count": 11,
   "id": "edfb765d",
   "metadata": {},
   "outputs": [
    {
     "data": {
      "image/png": "[encoded data removed]",
      "text/plain": [
       "<Figure size 640x480 with 1 Axes>"
      ]
     },
     "metadata": {},
     "output_type": "display_data"
    }
   ],
   "source": [
    "y_pred_prob = lr_model.predict_proba(x_test)[:,1]\n",
    "\n",
    "# Generate precision recall curve values: precision, recall, thresholds\n",
    "precision, recall, thresholds = precision_recall_curve(y_test, y_pred_prob)\n",
    "\n",
    "auc_pr = auc(recall, precision)\n",
    "\n",
    "# Plot the precision-recall curve\n",
    "plt.plot(recall, precision, label=f'AUC-PR = {auc_pr:.2f}')\n",
    "plt.title('Precision-Recall Curve for Logistic Regression')\n",
    "plt.xlabel('Recall')\n",
    "plt.ylabel('Precision')\n",
    "plt.legend()\n",
    "plt.show()"
   ]
  },
  {
   "cell_type": "markdown",
   "id": "53d79671",
   "metadata": {},
   "source": [
    "**Precision-Recall Curve Analysis:**<br>\n",
    "The curve illustrates the trade-off between precision and recall at different classification thresholds. An AUC-PR around 0.5 indicates that the model is not performing much better than random chance. In this case, there is room for improvement in achieving a better balance between precision and recall. The model may be struggling to maintain high precision while correctly identifying positive instances.\n",
    "\n",
    "This insight highlights an opportunity for model optimization, potentially through adjusting classification thresholds or exploring techniques to enhance sensitivity to positive cases. Such refinements could lead to a more effective and well-balanced predictive model.\n"
   ]
  },
  {
   "cell_type": "markdown",
   "id": "3b2adb8c",
   "metadata": {},
   "source": [
    "### Random Forest"
   ]
  },
  {
   "cell_type": "markdown",
   "id": "ec2d21e9",
   "metadata": {},
   "source": [
    "**Random Forests for Classification:**<br>\n",
    "Random Forests, an extension of bagged decision trees, effectively reduces correlation by constructing trees with random feature subsets at each split. This method, implemented using the `RandomForestClassifier` class, proves highly effective for classification tasks in Python, especially with libraries like scikit-learn. The ensemble nature of Random Forests contributes to robust and accurate predictions, making it a popular choice for a wide range of machine learning applications.\n"
   ]
  },
  {
   "cell_type": "code",
   "execution_count": 12,
   "id": "82d13028",
   "metadata": {},
   "outputs": [],
   "source": [
    "rf_model = RandomForestClassifier(n_estimators = 100, max_features = 3)\n",
    "rf_model.fit(x_train, y_train)\n",
    "y_pred = rf_model.predict(x_test)"
   ]
  },
  {
   "cell_type": "markdown",
   "id": "09234a3d",
   "metadata": {},
   "source": [
    "**Random Forest Classifier Parameters:**<br>\n",
    "The parameters for the `RandomForestClassifier` are set to utilize 100 trees in the ensemble, and each tree is limited to a maximum of 3 features. These values are carefully chosen to strike a balance between model complexity and robustness. The goal is to prevent overfitting while maintaining sufficient diversity among trees for effective ensemble learning. This parameter configuration is designed to enhance the model's generalization performance and ensure reliable predictions across various data scenarios.\n"
   ]
  },
  {
   "cell_type": "markdown",
   "id": "157f0a2e",
   "metadata": {},
   "source": [
    "**Parameter Tuning Note:**<br>\n",
    "When experimenting with various parameters, such as different values for `n_estimators` (e.g., 10, 20, 50, 75) and adjusting `max_features` (e.g., 5, 7, 10), thorough evaluations were conducted. It was observed that the model achieved better results with the\n"
   ]
  },
  {
   "cell_type": "code",
   "execution_count": 13,
   "id": "b409a2fd",
   "metadata": {},
   "outputs": [
    {
     "name": "stdout",
     "output_type": "stream",
     "text": [
      "              precision    recall  f1-score   support\n",
      "\n",
      "           0       1.00      1.00      1.00     70820\n",
      "           1       0.96      0.71      0.82       112\n",
      "\n",
      "    accuracy                           1.00     70932\n",
      "   macro avg       0.98      0.86      0.91     70932\n",
      "weighted avg       1.00      1.00      1.00     70932\n",
      "\n"
     ]
    }
   ],
   "source": [
    "print(classification_report(y_test, y_pred))"
   ]
  },
  {
   "cell_type": "markdown",
   "id": "e5eae8c1",
   "metadata": {},
   "source": [
    "**Model Performance Analysis:**<br>\n",
    "For class 0 (Normal Transactions), the model exhibits perfect precision, recall, and F1-score, indicating accurate classification of instances. However, for class 1 (Fraud Transaction), precision is 96%, suggesting a high proportion of correctly predicted positive instances, while recall is 73%, indicating some positive instances were not captured. The weighted average metrics emphasize the model's excellent overall accuracy (100%), with a slightly lower F1-score due to the imbalanced class distribution.\n",
    "\n",
    "The random forest model excels in accurately predicting the majority class but may benefit from improvements in capturing positive instances to enhance overall performance. Fine-tuning and optimizing the model, especially for the minority class, could lead to a more balanced and effective classification outcome.\n"
   ]
  },
  {
   "cell_type": "code",
   "execution_count": 14,
   "id": "9ed43aae",
   "metadata": {},
   "outputs": [
    {
     "name": "stdout",
     "output_type": "stream",
     "text": [
      "[[70817     3]\n",
      " [   32    80]]\n"
     ]
    }
   ],
   "source": [
    "print(confusion_matrix(y_test, y_pred))"
   ]
  },
  {
   "cell_type": "code",
   "execution_count": 15,
   "id": "ef4c7c83",
   "metadata": {},
   "outputs": [
    {
     "data": {
      "image/png": "[encoded data removed]",
      "text/plain": [
       "<Figure size 640x480 with 2 Axes>"
      ]
     },
     "metadata": {},
     "output_type": "display_data"
    }
   ],
   "source": [
    "sns.heatmap(confusion_matrix(y_test, y_pred), annot=True, linecolor='white', linewidths=1, fmt = 'd')\n",
    "\n",
    "plt.title('Confusion Matrix for Random Forest Classifier')\n",
    "plt.show()"
   ]
  },
  {
   "cell_type": "markdown",
   "id": "238cf893",
   "metadata": {},
   "source": [
    "**Confusion Matrix:**\n",
    "- True Positives (TP): 82 (correctly predicted as positive)\n",
    "- True Negatives (TN): 70817 (correctly predicted as negative)\n",
    "- False Positives (FP): 3 (incorrectly predicted as positive)\n",
    "- False Negatives (FN): 30 (incorrectly predicted as negative)"
   ]
  },
  {
   "cell_type": "code",
   "execution_count": 16,
   "id": "c125de46",
   "metadata": {},
   "outputs": [
    {
     "name": "stdout",
     "output_type": "stream",
     "text": [
      "accuracy: 0.9995065696723623\n",
      "precision: 0.963855421686747\n",
      "recall: 0.7142857142857143\n",
      "f1 score: 0.8205128205128204\n"
     ]
    }
   ],
   "source": [
    "print(\"accuracy: {}\".format(accuracy_score(y_test, y_pred)))\n",
    "print(\"precision: {}\".format(precision_score(y_test, y_pred)))\n",
    "print(\"recall: {}\".format(recall_score(y_test, y_pred)))\n",
    "print(f\"f1 score: {f1_score(y_test, y_pred)}\")"
   ]
  },
  {
   "cell_type": "markdown",
   "id": "a290d554",
   "metadata": {},
   "source": [
    "**Random Forest Model Performance Analysis:**<br>\n",
    "The random forest model excels in precision, indicating a high proportion of correctly identified positive instances, but there is room for improvement in recall, implying that the model could better capture positive instances.\n",
    "\n",
    "While the random forest model demonstrates overall strong performance, and precision is notably high, further optimization may enhance its ability to identify a greater number of positive instances. Striking a balance between precision and recall is essential for achieving optimal model performance in classification tasks, particularly in scenarios with imbalanced class distributions.\n"
   ]
  },
  {
   "cell_type": "code",
   "execution_count": 17,
   "id": "b4838b57",
   "metadata": {},
   "outputs": [
    {
     "data": {
      "image/png": "[encoded data removed]",
      "text/plain": [
       "<Figure size 640x480 with 1 Axes>"
      ]
     },
     "metadata": {},
     "output_type": "display_data"
    }
   ],
   "source": [
    "y_pred_prob = rf_model.predict_proba(x_test)[:,1]\n",
    "\n",
    "# Generate precision recall curve values: precision, recall, thresholds\n",
    "precision, recall, thresholds = precision_recall_curve(y_test, y_pred_prob)\n",
    "\n",
    "auc_pr = auc(recall, precision)\n",
    "\n",
    "# Plot the precision-recall curve\n",
    "plt.plot(recall, precision, label=f'AUC-PR = {auc_pr:.2f}')\n",
    "plt.title('Precision-Recall Curve for Random Forest Classifier')\n",
    "plt.xlabel('Recall')\n",
    "plt.ylabel('Precision')\n",
    "plt.legend()\n",
    "plt.show()"
   ]
  },
  {
   "cell_type": "markdown",
   "id": "a2f552a1",
   "metadata": {},
   "source": [
    "**Model Evaluation Summary:**<br>\n",
    "An AUC-PR around 0.83 suggests that the model achieves a good balance between precision and recall, demonstrating its ability to accurately identify positive instances while minimizing false positives. In conclusion, the random forest model exhibits a robust performance, with the precision-recall curve indicating a high-quality classification across various threshold values. This model is well-suited for the task at hand, striking an effective balance between accuracy and efficiency in identifying positive instances in the dataset.\n"
   ]
  },
  {
   "cell_type": "markdown",
   "id": "1af3753b",
   "metadata": {},
   "source": [
    "### Feature Importance"
   ]
  },
  {
   "cell_type": "markdown",
   "id": "30b174c2",
   "metadata": {},
   "source": [
    "**Feature Importance in Random Forest Regression:**<br>\n",
    "Understanding feature importance in random forest regression is crucial for gaining insights into the factors driving the model's predictions. By evaluating the significance of each feature, we can discern which variables have the most impact on the model's output. This insight is valuable for refining the model, enhancing interpretability, and making informed decisions based on the influential features identified by the random forest algorithm.\n",
    "\n",
    "Feature importance analysis provides a key avenue for extracting meaningful information from complex regression models, ultimately contributing to a more comprehensive understanding of the underlying patterns and dynamics in the dataset. It empowers practitioners to prioritize and focus on the most influential variables, leading to more effective model interpretation and improved decision-making.\n"
   ]
  },
  {
   "cell_type": "code",
   "execution_count": 18,
   "id": "610e7faf",
   "metadata": {},
   "outputs": [],
   "source": [
    "\n",
    "features = [\"Time\",\n",
    "         'V1', 'V2', 'V3', 'V4', 'V5', 'V6', 'V7', 'V8', 'V9', 'V10',\n",
    "         'V11', 'V12', 'V13', 'V14', 'V15', 'V16', 'V17', 'V18', 'V19', 'V20',\n",
    "         'V21', 'V22', 'V23', 'V24', 'V25', 'V26', 'V27', 'V28',\n",
    "         'Amount']"
   ]
  },
  {
   "cell_type": "code",
   "execution_count": 19,
   "id": "1d2cefcc",
   "metadata": {},
   "outputs": [],
   "source": [
    "#Code to calculate the feature importance\n",
    "feat_import = pd.DataFrame({'Feature': features, 'Feature importance': rf_model.feature_importances_})\n",
    "feat_import = feat_import.sort_values(by='Feature importance',ascending=False)"
   ]
  },
  {
   "cell_type": "code",
   "execution_count": 20,
   "id": "fad6bd75",
   "metadata": {},
   "outputs": [
    {
     "data": {
      "text/html": [
       "<div>\n",
       "<style scoped>\n",
       "    .dataframe tbody tr th:only-of-type {\n",
       "        vertical-align: middle;\n",
       "    }\n",
       "\n",
       "    .dataframe tbody tr th {\n",
       "        vertical-align: top;\n",
       "    }\n",
       "\n",
       "    .dataframe thead th {\n",
       "        text-align: right;\n",
       "    }\n",
       "</style>\n",
       "<table border=\"1\" class=\"dataframe\">\n",
       "  <thead>\n",
       "    <tr style=\"text-align: right;\">\n",
       "      <th></th>\n",
       "      <th>Feature</th>\n",
       "      <th>Feature importance</th>\n",
       "    </tr>\n",
       "  </thead>\n",
       "  <tbody>\n",
       "    <tr>\n",
       "      <th>12</th>\n",
       "      <td>V12</td>\n",
       "      <td>0.122444</td>\n",
       "    </tr>\n",
       "    <tr>\n",
       "      <th>14</th>\n",
       "      <td>V14</td>\n",
       "      <td>0.121003</td>\n",
       "    </tr>\n",
       "    <tr>\n",
       "      <th>17</th>\n",
       "      <td>V17</td>\n",
       "      <td>0.120663</td>\n",
       "    </tr>\n",
       "    <tr>\n",
       "      <th>11</th>\n",
       "      <td>V11</td>\n",
       "      <td>0.085596</td>\n",
       "    </tr>\n",
       "    <tr>\n",
       "      <th>10</th>\n",
       "      <td>V10</td>\n",
       "      <td>0.068174</td>\n",
       "    </tr>\n",
       "    <tr>\n",
       "      <th>16</th>\n",
       "      <td>V16</td>\n",
       "      <td>0.061753</td>\n",
       "    </tr>\n",
       "    <tr>\n",
       "      <th>4</th>\n",
       "      <td>V4</td>\n",
       "      <td>0.038992</td>\n",
       "    </tr>\n",
       "    <tr>\n",
       "      <th>9</th>\n",
       "      <td>V9</td>\n",
       "      <td>0.034382</td>\n",
       "    </tr>\n",
       "    <tr>\n",
       "      <th>18</th>\n",
       "      <td>V18</td>\n",
       "      <td>0.031515</td>\n",
       "    </tr>\n",
       "    <tr>\n",
       "      <th>7</th>\n",
       "      <td>V7</td>\n",
       "      <td>0.031387</td>\n",
       "    </tr>\n",
       "    <tr>\n",
       "      <th>3</th>\n",
       "      <td>V3</td>\n",
       "      <td>0.026015</td>\n",
       "    </tr>\n",
       "    <tr>\n",
       "      <th>6</th>\n",
       "      <td>V6</td>\n",
       "      <td>0.019733</td>\n",
       "    </tr>\n",
       "    <tr>\n",
       "      <th>26</th>\n",
       "      <td>V26</td>\n",
       "      <td>0.018833</td>\n",
       "    </tr>\n",
       "    <tr>\n",
       "      <th>2</th>\n",
       "      <td>V2</td>\n",
       "      <td>0.018783</td>\n",
       "    </tr>\n",
       "    <tr>\n",
       "      <th>21</th>\n",
       "      <td>V21</td>\n",
       "      <td>0.017939</td>\n",
       "    </tr>\n",
       "    <tr>\n",
       "      <th>1</th>\n",
       "      <td>V1</td>\n",
       "      <td>0.016620</td>\n",
       "    </tr>\n",
       "    <tr>\n",
       "      <th>19</th>\n",
       "      <td>V19</td>\n",
       "      <td>0.015192</td>\n",
       "    </tr>\n",
       "    <tr>\n",
       "      <th>8</th>\n",
       "      <td>V8</td>\n",
       "      <td>0.014939</td>\n",
       "    </tr>\n",
       "    <tr>\n",
       "      <th>5</th>\n",
       "      <td>V5</td>\n",
       "      <td>0.014666</td>\n",
       "    </tr>\n",
       "    <tr>\n",
       "      <th>20</th>\n",
       "      <td>V20</td>\n",
       "      <td>0.013730</td>\n",
       "    </tr>\n",
       "    <tr>\n",
       "      <th>22</th>\n",
       "      <td>V22</td>\n",
       "      <td>0.011781</td>\n",
       "    </tr>\n",
       "    <tr>\n",
       "      <th>15</th>\n",
       "      <td>V15</td>\n",
       "      <td>0.011769</td>\n",
       "    </tr>\n",
       "    <tr>\n",
       "      <th>29</th>\n",
       "      <td>Amount</td>\n",
       "      <td>0.011726</td>\n",
       "    </tr>\n",
       "    <tr>\n",
       "      <th>28</th>\n",
       "      <td>V28</td>\n",
       "      <td>0.011404</td>\n",
       "    </tr>\n",
       "    <tr>\n",
       "      <th>0</th>\n",
       "      <td>Time</td>\n",
       "      <td>0.011333</td>\n",
       "    </tr>\n",
       "    <tr>\n",
       "      <th>24</th>\n",
       "      <td>V24</td>\n",
       "      <td>0.011070</td>\n",
       "    </tr>\n",
       "    <tr>\n",
       "      <th>27</th>\n",
       "      <td>V27</td>\n",
       "      <td>0.010510</td>\n",
       "    </tr>\n",
       "    <tr>\n",
       "      <th>13</th>\n",
       "      <td>V13</td>\n",
       "      <td>0.009827</td>\n",
       "    </tr>\n",
       "    <tr>\n",
       "      <th>25</th>\n",
       "      <td>V25</td>\n",
       "      <td>0.009117</td>\n",
       "    </tr>\n",
       "    <tr>\n",
       "      <th>23</th>\n",
       "      <td>V23</td>\n",
       "      <td>0.009104</td>\n",
       "    </tr>\n",
       "  </tbody>\n",
       "</table>\n",
       "</div>"
      ],
      "text/plain": [
       "   Feature  Feature importance\n",
       "12     V12            0.122444\n",
       "14     V14            0.121003\n",
       "17     V17            0.120663\n",
       "11     V11            0.085596\n",
       "10     V10            0.068174\n",
       "16     V16            0.061753\n",
       "4       V4            0.038992\n",
       "9       V9            0.034382\n",
       "18     V18            0.031515\n",
       "7       V7            0.031387\n",
       "3       V3            0.026015\n",
       "6       V6            0.019733\n",
       "26     V26            0.018833\n",
       "2       V2            0.018783\n",
       "21     V21            0.017939\n",
       "1       V1            0.016620\n",
       "19     V19            0.015192\n",
       "8       V8            0.014939\n",
       "5       V5            0.014666\n",
       "20     V20            0.013730\n",
       "22     V22            0.011781\n",
       "15     V15            0.011769\n",
       "29  Amount            0.011726\n",
       "28     V28            0.011404\n",
       "0     Time            0.011333\n",
       "24     V24            0.011070\n",
       "27     V27            0.010510\n",
       "13     V13            0.009827\n",
       "25     V25            0.009117\n",
       "23     V23            0.009104"
      ]
     },
     "execution_count": 20,
     "metadata": {},
     "output_type": "execute_result"
    }
   ],
   "source": [
    "#To see the feature importance values for each feature\n",
    "feat_import"
   ]
  },
  {
   "cell_type": "code",
   "execution_count": 21,
   "id": "0508f3ba",
   "metadata": {},
   "outputs": [
    {
     "data": {
      "text/html": [
       "<div>\n",
       "<style scoped>\n",
       "    .dataframe tbody tr th:only-of-type {\n",
       "        vertical-align: middle;\n",
       "    }\n",
       "\n",
       "    .dataframe tbody tr th {\n",
       "        vertical-align: top;\n",
       "    }\n",
       "\n",
       "    .dataframe thead th {\n",
       "        text-align: right;\n",
       "    }\n",
       "</style>\n",
       "<table border=\"1\" class=\"dataframe\">\n",
       "  <thead>\n",
       "    <tr style=\"text-align: right;\">\n",
       "      <th></th>\n",
       "      <th>12</th>\n",
       "      <th>14</th>\n",
       "      <th>17</th>\n",
       "      <th>11</th>\n",
       "      <th>10</th>\n",
       "      <th>16</th>\n",
       "      <th>4</th>\n",
       "      <th>9</th>\n",
       "      <th>18</th>\n",
       "      <th>7</th>\n",
       "      <th>3</th>\n",
       "      <th>6</th>\n",
       "      <th>26</th>\n",
       "      <th>2</th>\n",
       "      <th>21</th>\n",
       "      <th>1</th>\n",
       "      <th>19</th>\n",
       "      <th>8</th>\n",
       "      <th>5</th>\n",
       "      <th>20</th>\n",
       "      <th>22</th>\n",
       "      <th>15</th>\n",
       "      <th>29</th>\n",
       "      <th>28</th>\n",
       "      <th>0</th>\n",
       "      <th>24</th>\n",
       "      <th>27</th>\n",
       "      <th>13</th>\n",
       "      <th>25</th>\n",
       "      <th>23</th>\n",
       "    </tr>\n",
       "  </thead>\n",
       "  <tbody>\n",
       "    <tr>\n",
       "      <th>Feature</th>\n",
       "      <td>V12</td>\n",
       "      <td>V14</td>\n",
       "      <td>V17</td>\n",
       "      <td>V11</td>\n",
       "      <td>V10</td>\n",
       "      <td>V16</td>\n",
       "      <td>V4</td>\n",
       "      <td>V9</td>\n",
       "      <td>V18</td>\n",
       "      <td>V7</td>\n",
       "      <td>V3</td>\n",
       "      <td>V6</td>\n",
       "      <td>V26</td>\n",
       "      <td>V2</td>\n",
       "      <td>V21</td>\n",
       "      <td>V1</td>\n",
       "      <td>V19</td>\n",
       "      <td>V8</td>\n",
       "      <td>V5</td>\n",
       "      <td>V20</td>\n",
       "      <td>V22</td>\n",
       "      <td>V15</td>\n",
       "      <td>Amount</td>\n",
       "      <td>V28</td>\n",
       "      <td>Time</td>\n",
       "      <td>V24</td>\n",
       "      <td>V27</td>\n",
       "      <td>V13</td>\n",
       "      <td>V25</td>\n",
       "      <td>V23</td>\n",
       "    </tr>\n",
       "    <tr>\n",
       "      <th>Feature importance</th>\n",
       "      <td>0.122444</td>\n",
       "      <td>0.121003</td>\n",
       "      <td>0.120663</td>\n",
       "      <td>0.085596</td>\n",
       "      <td>0.068174</td>\n",
       "      <td>0.061753</td>\n",
       "      <td>0.038992</td>\n",
       "      <td>0.034382</td>\n",
       "      <td>0.031515</td>\n",
       "      <td>0.031387</td>\n",
       "      <td>0.026015</td>\n",
       "      <td>0.019733</td>\n",
       "      <td>0.018833</td>\n",
       "      <td>0.018783</td>\n",
       "      <td>0.017939</td>\n",
       "      <td>0.01662</td>\n",
       "      <td>0.015192</td>\n",
       "      <td>0.014939</td>\n",
       "      <td>0.014666</td>\n",
       "      <td>0.01373</td>\n",
       "      <td>0.011781</td>\n",
       "      <td>0.011769</td>\n",
       "      <td>0.011726</td>\n",
       "      <td>0.011404</td>\n",
       "      <td>0.011333</td>\n",
       "      <td>0.01107</td>\n",
       "      <td>0.01051</td>\n",
       "      <td>0.009827</td>\n",
       "      <td>0.009117</td>\n",
       "      <td>0.009104</td>\n",
       "    </tr>\n",
       "  </tbody>\n",
       "</table>\n",
       "</div>"
      ],
      "text/plain": [
       "                          12        14        17        11        10  \\\n",
       "Feature                  V12       V14       V17       V11       V10   \n",
       "Feature importance  0.122444  0.121003  0.120663  0.085596  0.068174   \n",
       "\n",
       "                          16        4         9         18        7   \\\n",
       "Feature                  V16        V4        V9       V18        V7   \n",
       "Feature importance  0.061753  0.038992  0.034382  0.031515  0.031387   \n",
       "\n",
       "                          3         6         26        2         21       1   \\\n",
       "Feature                   V3        V6       V26        V2       V21       V1   \n",
       "Feature importance  0.026015  0.019733  0.018833  0.018783  0.017939  0.01662   \n",
       "\n",
       "                          19        8         5        20        22        15  \\\n",
       "Feature                  V19        V8        V5      V20       V22       V15   \n",
       "Feature importance  0.015192  0.014939  0.014666  0.01373  0.011781  0.011769   \n",
       "\n",
       "                          29        28        0        24       27        13  \\\n",
       "Feature               Amount       V28      Time      V24      V27       V13   \n",
       "Feature importance  0.011726  0.011404  0.011333  0.01107  0.01051  0.009827   \n",
       "\n",
       "                          25        23  \n",
       "Feature                  V25       V23  \n",
       "Feature importance  0.009117  0.009104  "
      ]
     },
     "execution_count": 21,
     "metadata": {},
     "output_type": "execute_result"
    }
   ],
   "source": [
    "pd.set_option('display.max_columns', None)\n",
    "feat_import.transpose()"
   ]
  },
  {
   "cell_type": "code",
   "execution_count": 22,
   "id": "e8420455",
   "metadata": {},
   "outputs": [
    {
     "data": {
      "image/png": "[encoded data removed]",
      "text/plain": [
       "<Figure size 900x500 with 1 Axes>"
      ]
     },
     "metadata": {},
     "output_type": "display_data"
    }
   ],
   "source": [
    "#Pie Chart to visualise the feature importance\n",
    "plt.figure(figsize = (9,5))\n",
    "\n",
    "plt.pie(feat_import['Feature importance'], labels=feat_import['Feature'], autopct='%1.1f%%', startangle=90, colors=plt.cm.Paired.colors)\n",
    "plt.title(\"Feature Importance Pie Chart\")\n",
    "\n",
    "plt.show()"
   ]
  },
  {
   "cell_type": "markdown",
   "id": "bf9c8446",
   "metadata": {},
   "source": [
    "**Key Feature Insights:**<br>\n",
    "The combined influence of features **V17**, **V14**, **V10**, **V11**, and **V12** is particularly noteworthy, constituting a significant **50%** of the feature importance plot. This collective dominance underscores their substantial importance in the model's decision-making process, signifying a high level of impact on the overall output.\n",
    "\n",
    "Understanding the prominence of these specific features provides critical insights into the driving factors behind the model's predictions. It not only aids in interpreting the model's behavior but also offers valuable guidance for targeted interventions or further investigations into these influential variables to enhance overall model performance.\n"
   ]
  },
  {
   "cell_type": "code",
   "execution_count": 23,
   "id": "5680be55",
   "metadata": {},
   "outputs": [
    {
     "data": {
      "image/png": "[encoded data removed]",
      "text/plain": [
       "<Figure size 900x500 with 1 Axes>"
      ]
     },
     "metadata": {},
     "output_type": "display_data"
    }
   ],
   "source": [
    "#Bar plot to visualise the feature importance\n",
    "plt.figure(figsize = (9,5))\n",
    "\n",
    "g = sns.barplot(x = 'Feature', y = 'Feature importance', data = feat_import)\n",
    "\n",
    "#Vertical Allignment of x_labesl\n",
    "g.set_xticklabels(g.get_xticklabels(), rotation = 90)\n",
    "g.set_title('Features importance - Random Forest')\n",
    "\n",
    "#To show the feature importance value in the graph and its vertical allignment\n",
    "for index, value in enumerate(feat_import['Feature importance']):\n",
    "    g.text(index, value, f'{value:.2f}', color = 'black', ha = \"center\", va = \"bottom\", rotation = 90)\n",
    "\n",
    "plt.show()"
   ]
  },
  {
   "cell_type": "markdown",
   "id": "891ea8cf",
   "metadata": {},
   "source": [
    "**Feature Significance Analysis:**<br>\n",
    "The **important features** for the model, namely **V17**, **V14**, and **V10**, exhibit the highest significance, underscoring their pivotal role in influencing the model's output. Conversely, features such as **V23**, **V25**, and **V15** demonstrate relatively lower importance.\n",
    "\n",
    "This insight provides valuable clarity on the key variables shaping the model's decision-making, offering an enhanced understanding of the underlying patterns and dynamics governing the regression task. By focusing on the most influential features, practitioners can make informed decisions, optimize model performance, and derive actionable insights from the regression analysis.\n"
   ]
  },
  {
   "cell_type": "markdown",
   "id": "93fa0331",
   "metadata": {},
   "source": [
    "## Removing Some Features"
   ]
  },
  {
   "cell_type": "markdown",
   "id": "abf5e4be",
   "metadata": {},
   "source": [
    "**Model Refinement Approach:**<br>\n",
    "In an effort to refine the model and streamline its performance, features with an importance score below **0.015** will be excluded. Subsequently, the random forest model will be reconstructed using the same parameters to assess whether any substantial or noteworthy changes in performance emerge.\n",
    "\n",
    "It's worth noting that various parameter adjustments and feature removals were explored, and this particular configuration yielded the most promising results among the alternatives. This iterative refinement process aims to enhance the model's interpretability and effectiveness by focusing on the most impactful features while maintaining a balanced and optimized parameter set.\n"
   ]
  },
  {
   "cell_type": "code",
   "execution_count": 24,
   "id": "5c77a809",
   "metadata": {},
   "outputs": [],
   "source": [
    "#Removing features having feature importance less than 0.015\n",
    "\n",
    "df1 = df[[\"Time\",\n",
    "         'V1', 'V2', 'V3', 'V4', 'V5', 'V7', 'V9', 'V10',\n",
    "         'V11', 'V12', 'V14', 'V16', 'V17', 'V18', 'V19',\n",
    "         'V21', 'V26', \"Class\", 'Amount']]"
   ]
  },
  {
   "cell_type": "code",
   "execution_count": 25,
   "id": "3d5790e7",
   "metadata": {},
   "outputs": [],
   "source": [
    "x = df1.drop('Class', axis = 'columns')\n",
    "y = df1['Class']"
   ]
  },
  {
   "cell_type": "code",
   "execution_count": 26,
   "id": "f9046fbc",
   "metadata": {},
   "outputs": [],
   "source": [
    "#Split the data into train and test\n",
    "#We split into 75-25 ratio\n",
    "\n",
    "x_train, x_test, y_train, y_test = train_test_split(x, y, test_size = 0.25, random_state = 42)"
   ]
  },
  {
   "cell_type": "markdown",
   "id": "2891f8c8",
   "metadata": {},
   "source": [
    "**Controlled Model Evaluation Setting:**<br>\n",
    "For evaluating the impact of feature removal on model performance, the identical Random Forest model parameters will persist, maintaining a consistent configuration of **n_estimators = 100** and **max_features = 3**. This controlled setting ensures a fair comparison, allowing us to assess any notable changes resulting from the exclusion of non-important features identified in the distribution analysis.\n",
    "\n",
    "By keeping the parameters consistent, we can isolate the effect of feature removal on the model's predictive capabilities, facilitating a clear understanding of how these modifications influence overall performance while minimizing confounding factors.\n"
   ]
  },
  {
   "cell_type": "code",
   "execution_count": 27,
   "id": "c5d83c46",
   "metadata": {},
   "outputs": [],
   "source": [
    "rf_model = RandomForestClassifier(n_estimators = 100, max_features = 3)\n",
    "rf_model.fit(x_train, y_train)\n",
    "y_pred = rf_model.predict(x_test)"
   ]
  },
  {
   "cell_type": "code",
   "execution_count": 28,
   "id": "853c5595",
   "metadata": {},
   "outputs": [
    {
     "name": "stdout",
     "output_type": "stream",
     "text": [
      "              precision    recall  f1-score   support\n",
      "\n",
      "           0       1.00      1.00      1.00     70820\n",
      "           1       0.95      0.74      0.83       112\n",
      "\n",
      "    accuracy                           1.00     70932\n",
      "   macro avg       0.98      0.87      0.92     70932\n",
      "weighted avg       1.00      1.00      1.00     70932\n",
      "\n"
     ]
    }
   ],
   "source": [
    "print(classification_report(y_test, y_pred))"
   ]
  },
  {
   "cell_type": "code",
   "execution_count": 29,
   "id": "93cbde93",
   "metadata": {},
   "outputs": [
    {
     "name": "stdout",
     "output_type": "stream",
     "text": [
      "[[70816     4]\n",
      " [   29    83]]\n"
     ]
    }
   ],
   "source": [
    "print(confusion_matrix(y_test, y_pred))"
   ]
  },
  {
   "cell_type": "code",
   "execution_count": 30,
   "id": "b1f0d1bd",
   "metadata": {},
   "outputs": [
    {
     "name": "stdout",
     "output_type": "stream",
     "text": [
      "accuracy: 0.9995347656910845\n",
      "precision: 0.9540229885057471\n",
      "recall: 0.7410714285714286\n",
      "f1 score: 0.8341708542713567\n"
     ]
    }
   ],
   "source": [
    "print(\"accuracy: {}\".format(accuracy_score(y_test, y_pred)))\n",
    "print(\"precision: {}\".format(precision_score(y_test, y_pred)))\n",
    "print(\"recall: {}\".format(recall_score(y_test, y_pred)))\n",
    "print(f\"f1 score: {f1_score(y_test, y_pred)}\")"
   ]
  },
  {
   "cell_type": "markdown",
   "id": "8af87bd0",
   "metadata": {},
   "source": [
    "**Impact of Feature Removal on Model Performance:**<br>\n",
    "The analysis reveals a marginal decline in performance metrics upon the removal of features. The model, albeit with certain features excluded, maintains a commendable level of accuracy, slightly below that of the full-feature model. Precision, recall, and F1 score also demonstrate noteworthy, albeit subtle, reductions.\n",
    "\n",
    "These findings suggest that the omitted features exert limited influence on the overall robustness of the model. Despite the reduction in the feature set, the model remains resilient, indicating that the excluded features may have a comparatively minor impact on overall performance. This insight supports the feasibility of the refined feature set in achieving a balance between simplicity and predictive effectiveness.\n"
   ]
  },
  {
   "cell_type": "markdown",
   "id": "861f71a7",
   "metadata": {},
   "source": [
    "**Privacy and Security Considerations:**<br>\n",
    "Considering the sensitivity of certain confidential features, the slight trade-off in performance may be deemed justifiable, particularly in light of privacy and security concerns. The decision to exclude specific features should be carefully weighed, balancing the importance of model performance against the imperative to safeguard sensitive information.\n",
    "\n",
    "This strategic approach underscores the significance of responsible and ethical model development, ensuring that privacy and security considerations are given due diligence. By making informed decisions on feature inclusion or exclusion, practitioners can align the model's performance goals with ethical considerations, promoting a well-rounded and responsible application of machine learning in sensitive domains.\n"
   ]
  },
  {
   "cell_type": "markdown",
   "id": "f283b093",
   "metadata": {},
   "source": [
    "## Balancing the Imbalance Data"
   ]
  },
  {
   "cell_type": "markdown",
   "id": "d7c72a6f",
   "metadata": {},
   "source": [
    "**Addressing Data Imbalance:**<br>\n",
    "As observed earlier, our data exhibits a high level of imbalance. To mitigate this, we will build the random forest model with the same parameters and explore the impact of both undersampling and oversampling techniques on the model's efficiency.\n",
    "\n",
    "Undersampling involves reducing the number of instances from the majority class, while oversampling involves increasing the instances of the minority class. By comparing the model's performance under these different sampling strategies, we aim to assess the effectiveness of each approach in handling the imbalanced nature of the dataset.\n"
   ]
  },
  {
   "cell_type": "markdown",
   "id": "f28bb75a",
   "metadata": {},
   "source": [
    "### Oversamping"
   ]
  },
  {
   "cell_type": "markdown",
   "id": "f2fbaf01",
   "metadata": {},
   "source": [
    "**Oversampling Approach:**<br>\n",
    "Oversampling involves adding more copies of the minority class and can be a good choice when you don’t have a ton of data to work with. In this analysis, we will use the resampling module from Scikit-Learn to randomly replicate samples from the minority class.\n",
    "\n",
    "This oversampling technique aims to address the imbalance in the dataset, providing the model with a more balanced representation of both classes and potentially improving its ability to discern patterns in the minority class for better predictive performance.\n"
   ]
  },
  {
   "cell_type": "code",
   "execution_count": 31,
   "id": "d7463087",
   "metadata": {},
   "outputs": [],
   "source": [
    "x = df.drop('Class', axis=1)\n",
    "y = df.Class\n",
    "\n"
   ]
  },
  {
   "cell_type": "code",
   "execution_count": 32,
   "id": "92a6d30d",
   "metadata": {},
   "outputs": [
    {
     "data": {
      "text/plain": [
       "Index(['Time', 'V1', 'V2', 'V3', 'V4', 'V5', 'V6', 'V7', 'V8', 'V9', 'V10',\n",
       "       'V11', 'V12', 'V13', 'V14', 'V15', 'V16', 'V17', 'V18', 'V19', 'V20',\n",
       "       'V21', 'V22', 'V23', 'V24', 'V25', 'V26', 'V27', 'V28', 'Amount'],\n",
       "      dtype='object')"
      ]
     },
     "execution_count": 32,
     "metadata": {},
     "output_type": "execute_result"
    }
   ],
   "source": [
    "x.columns"
   ]
  },
  {
   "cell_type": "code",
   "execution_count": 33,
   "id": "504fa63f",
   "metadata": {},
   "outputs": [
    {
     "data": {
      "text/plain": [
       "0    212458\n",
       "1    212458\n",
       "Name: Class, dtype: int64"
      ]
     },
     "execution_count": 33,
     "metadata": {},
     "output_type": "execute_result"
    }
   ],
   "source": [
    "x_train, x_test, y_train, y_test = train_test_split(x, y, test_size=0.25, random_state=27)\n",
    "\n",
    "# Combine Features and Labels in Training Set:\n",
    "# Concatenate the training features and labels along columns\n",
    "x = pd.concat([x_train, y_train], axis=1)\n",
    "\n",
    "# Balancing the Classes:\n",
    "# Separate the training set into non-fraudulent (Class 0) and fraudulent (Class 1) transactions\n",
    "not_fraud = x[x.Class==0]\n",
    "fraud = x[x.Class==1]\n",
    "\n",
    "# Upsample the fraudulent transactions to match the length of non-fraudulent transactions\n",
    "fraud_upsampled = resample(fraud,\n",
    "                          replace=True,\n",
    "                          n_samples=len(not_fraud),\n",
    "                          random_state=27)\n",
    "\n",
    "# Concatenate the original non-fraudulent transactions with the upsampled fraudulent transactions\n",
    "upsampled = pd.concat([not_fraud, fraud_upsampled])\n",
    "\n",
    "\n",
    "upsampled.Class.value_counts()"
   ]
  },
  {
   "cell_type": "code",
   "execution_count": 34,
   "id": "a513d47e",
   "metadata": {},
   "outputs": [
    {
     "data": {
      "text/html": [
       "<div>\n",
       "<style scoped>\n",
       "    .dataframe tbody tr th:only-of-type {\n",
       "        vertical-align: middle;\n",
       "    }\n",
       "\n",
       "    .dataframe tbody tr th {\n",
       "        vertical-align: top;\n",
       "    }\n",
       "\n",
       "    .dataframe thead th {\n",
       "        text-align: right;\n",
       "    }\n",
       "</style>\n",
       "<table border=\"1\" class=\"dataframe\">\n",
       "  <thead>\n",
       "    <tr style=\"text-align: right;\">\n",
       "      <th></th>\n",
       "      <th>Time</th>\n",
       "      <th>V1</th>\n",
       "      <th>V2</th>\n",
       "      <th>V3</th>\n",
       "      <th>V4</th>\n",
       "      <th>V5</th>\n",
       "      <th>V6</th>\n",
       "      <th>V7</th>\n",
       "      <th>V8</th>\n",
       "      <th>V9</th>\n",
       "      <th>V10</th>\n",
       "      <th>V11</th>\n",
       "      <th>V12</th>\n",
       "      <th>V13</th>\n",
       "      <th>V14</th>\n",
       "      <th>V15</th>\n",
       "      <th>V16</th>\n",
       "      <th>V17</th>\n",
       "      <th>V18</th>\n",
       "      <th>V19</th>\n",
       "      <th>V20</th>\n",
       "      <th>V21</th>\n",
       "      <th>V22</th>\n",
       "      <th>V23</th>\n",
       "      <th>V24</th>\n",
       "      <th>V25</th>\n",
       "      <th>V26</th>\n",
       "      <th>V27</th>\n",
       "      <th>V28</th>\n",
       "      <th>Amount</th>\n",
       "      <th>Class</th>\n",
       "    </tr>\n",
       "  </thead>\n",
       "  <tbody>\n",
       "    <tr>\n",
       "      <th>16261</th>\n",
       "      <td>27703.0</td>\n",
       "      <td>1.096641</td>\n",
       "      <td>-0.937955</td>\n",
       "      <td>0.040606</td>\n",
       "      <td>-0.442945</td>\n",
       "      <td>-1.171242</td>\n",
       "      <td>-1.090781</td>\n",
       "      <td>-0.121653</td>\n",
       "      <td>-0.315367</td>\n",
       "      <td>-0.916113</td>\n",
       "      <td>0.631588</td>\n",
       "      <td>-0.543288</td>\n",
       "      <td>-0.302158</td>\n",
       "      <td>0.068302</td>\n",
       "      <td>0.240078</td>\n",
       "      <td>0.893782</td>\n",
       "      <td>-1.298029</td>\n",
       "      <td>0.004342</td>\n",
       "      <td>0.935521</td>\n",
       "      <td>-0.808284</td>\n",
       "      <td>-0.168233</td>\n",
       "      <td>-0.293384</td>\n",
       "      <td>-0.732765</td>\n",
       "      <td>-0.092251</td>\n",
       "      <td>0.429221</td>\n",
       "      <td>0.208263</td>\n",
       "      <td>1.023854</td>\n",
       "      <td>-0.097505</td>\n",
       "      <td>0.032036</td>\n",
       "      <td>5.122534</td>\n",
       "      <td>0</td>\n",
       "    </tr>\n",
       "    <tr>\n",
       "      <th>91812</th>\n",
       "      <td>63795.0</td>\n",
       "      <td>0.950017</td>\n",
       "      <td>-0.355874</td>\n",
       "      <td>1.153859</td>\n",
       "      <td>1.774125</td>\n",
       "      <td>-0.751259</td>\n",
       "      <td>0.630283</td>\n",
       "      <td>-0.427670</td>\n",
       "      <td>0.253150</td>\n",
       "      <td>1.205977</td>\n",
       "      <td>-0.455303</td>\n",
       "      <td>-1.063982</td>\n",
       "      <td>1.116629</td>\n",
       "      <td>-0.007528</td>\n",
       "      <td>-0.776570</td>\n",
       "      <td>-1.722405</td>\n",
       "      <td>-1.149380</td>\n",
       "      <td>0.762300</td>\n",
       "      <td>-1.370433</td>\n",
       "      <td>0.151311</td>\n",
       "      <td>-0.056154</td>\n",
       "      <td>-0.371945</td>\n",
       "      <td>-0.734697</td>\n",
       "      <td>0.022356</td>\n",
       "      <td>0.091798</td>\n",
       "      <td>0.409512</td>\n",
       "      <td>-0.517723</td>\n",
       "      <td>0.080219</td>\n",
       "      <td>0.041000</td>\n",
       "      <td>4.355426</td>\n",
       "      <td>0</td>\n",
       "    </tr>\n",
       "    <tr>\n",
       "      <th>76417</th>\n",
       "      <td>56713.0</td>\n",
       "      <td>1.298983</td>\n",
       "      <td>-0.060712</td>\n",
       "      <td>-1.099515</td>\n",
       "      <td>-0.550183</td>\n",
       "      <td>2.021548</td>\n",
       "      <td>3.271188</td>\n",
       "      <td>-0.523714</td>\n",
       "      <td>0.806044</td>\n",
       "      <td>-0.053725</td>\n",
       "      <td>-0.002810</td>\n",
       "      <td>-0.028487</td>\n",
       "      <td>0.074007</td>\n",
       "      <td>0.042800</td>\n",
       "      <td>0.427425</td>\n",
       "      <td>1.246346</td>\n",
       "      <td>0.641489</td>\n",
       "      <td>-0.909985</td>\n",
       "      <td>-0.066957</td>\n",
       "      <td>0.252553</td>\n",
       "      <td>0.034262</td>\n",
       "      <td>-0.308157</td>\n",
       "      <td>-1.073421</td>\n",
       "      <td>0.096305</td>\n",
       "      <td>0.992562</td>\n",
       "      <td>0.366277</td>\n",
       "      <td>0.109467</td>\n",
       "      <td>-0.029908</td>\n",
       "      <td>0.013316</td>\n",
       "      <td>2.350422</td>\n",
       "      <td>0</td>\n",
       "    </tr>\n",
       "    <tr>\n",
       "      <th>162386</th>\n",
       "      <td>115560.0</td>\n",
       "      <td>1.912785</td>\n",
       "      <td>-0.146368</td>\n",
       "      <td>-2.247509</td>\n",
       "      <td>1.024694</td>\n",
       "      <td>1.056623</td>\n",
       "      <td>-0.008455</td>\n",
       "      <td>0.619514</td>\n",
       "      <td>-0.199528</td>\n",
       "      <td>0.046541</td>\n",
       "      <td>0.391997</td>\n",
       "      <td>-0.526846</td>\n",
       "      <td>0.490425</td>\n",
       "      <td>-0.225950</td>\n",
       "      <td>0.694570</td>\n",
       "      <td>-1.092594</td>\n",
       "      <td>-0.123544</td>\n",
       "      <td>-0.867601</td>\n",
       "      <td>0.318551</td>\n",
       "      <td>0.557634</td>\n",
       "      <td>-0.075738</td>\n",
       "      <td>0.062836</td>\n",
       "      <td>0.175749</td>\n",
       "      <td>-0.260340</td>\n",
       "      <td>-1.439129</td>\n",
       "      <td>0.574862</td>\n",
       "      <td>-0.430474</td>\n",
       "      <td>-0.037771</td>\n",
       "      <td>-0.071145</td>\n",
       "      <td>4.569750</td>\n",
       "      <td>0</td>\n",
       "    </tr>\n",
       "    <tr>\n",
       "      <th>69631</th>\n",
       "      <td>53627.0</td>\n",
       "      <td>-1.400642</td>\n",
       "      <td>0.873911</td>\n",
       "      <td>-1.406248</td>\n",
       "      <td>0.287847</td>\n",
       "      <td>1.652653</td>\n",
       "      <td>3.710259</td>\n",
       "      <td>-0.758589</td>\n",
       "      <td>0.844324</td>\n",
       "      <td>-0.897738</td>\n",
       "      <td>-0.273530</td>\n",
       "      <td>-0.532887</td>\n",
       "      <td>0.064645</td>\n",
       "      <td>0.186012</td>\n",
       "      <td>1.024593</td>\n",
       "      <td>1.390933</td>\n",
       "      <td>0.355408</td>\n",
       "      <td>-0.260985</td>\n",
       "      <td>0.733519</td>\n",
       "      <td>0.930472</td>\n",
       "      <td>-0.400842</td>\n",
       "      <td>0.909730</td>\n",
       "      <td>-0.043558</td>\n",
       "      <td>0.214201</td>\n",
       "      <td>1.007881</td>\n",
       "      <td>0.173009</td>\n",
       "      <td>-0.187625</td>\n",
       "      <td>-0.090432</td>\n",
       "      <td>-0.346800</td>\n",
       "      <td>4.023743</td>\n",
       "      <td>0</td>\n",
       "    </tr>\n",
       "    <tr>\n",
       "      <th>...</th>\n",
       "      <td>...</td>\n",
       "      <td>...</td>\n",
       "      <td>...</td>\n",
       "      <td>...</td>\n",
       "      <td>...</td>\n",
       "      <td>...</td>\n",
       "      <td>...</td>\n",
       "      <td>...</td>\n",
       "      <td>...</td>\n",
       "      <td>...</td>\n",
       "      <td>...</td>\n",
       "      <td>...</td>\n",
       "      <td>...</td>\n",
       "      <td>...</td>\n",
       "      <td>...</td>\n",
       "      <td>...</td>\n",
       "      <td>...</td>\n",
       "      <td>...</td>\n",
       "      <td>...</td>\n",
       "      <td>...</td>\n",
       "      <td>...</td>\n",
       "      <td>...</td>\n",
       "      <td>...</td>\n",
       "      <td>...</td>\n",
       "      <td>...</td>\n",
       "      <td>...</td>\n",
       "      <td>...</td>\n",
       "      <td>...</td>\n",
       "      <td>...</td>\n",
       "      <td>...</td>\n",
       "      <td>...</td>\n",
       "    </tr>\n",
       "    <tr>\n",
       "      <th>262115</th>\n",
       "      <td>160791.0</td>\n",
       "      <td>2.132386</td>\n",
       "      <td>0.705608</td>\n",
       "      <td>-3.530759</td>\n",
       "      <td>0.514779</td>\n",
       "      <td>1.527175</td>\n",
       "      <td>-1.716268</td>\n",
       "      <td>1.132791</td>\n",
       "      <td>-0.574214</td>\n",
       "      <td>0.128904</td>\n",
       "      <td>-1.000805</td>\n",
       "      <td>-0.191191</td>\n",
       "      <td>-0.323794</td>\n",
       "      <td>-0.572456</td>\n",
       "      <td>-1.422064</td>\n",
       "      <td>0.314684</td>\n",
       "      <td>-0.387162</td>\n",
       "      <td>1.734742</td>\n",
       "      <td>0.610976</td>\n",
       "      <td>-0.221267</td>\n",
       "      <td>-0.211167</td>\n",
       "      <td>0.163739</td>\n",
       "      <td>0.703910</td>\n",
       "      <td>-0.245076</td>\n",
       "      <td>0.460049</td>\n",
       "      <td>0.920281</td>\n",
       "      <td>-0.216586</td>\n",
       "      <td>-0.026219</td>\n",
       "      <td>-0.025001</td>\n",
       "      <td>0.009950</td>\n",
       "      <td>1</td>\n",
       "    </tr>\n",
       "    <tr>\n",
       "      <th>53560</th>\n",
       "      <td>46149.0</td>\n",
       "      <td>-1.346509</td>\n",
       "      <td>2.132431</td>\n",
       "      <td>-1.854355</td>\n",
       "      <td>2.116998</td>\n",
       "      <td>-1.070378</td>\n",
       "      <td>-1.092671</td>\n",
       "      <td>-2.230986</td>\n",
       "      <td>1.036425</td>\n",
       "      <td>-1.895516</td>\n",
       "      <td>-3.364011</td>\n",
       "      <td>2.887048</td>\n",
       "      <td>-3.784460</td>\n",
       "      <td>-1.288904</td>\n",
       "      <td>-3.985626</td>\n",
       "      <td>0.531838</td>\n",
       "      <td>-2.603703</td>\n",
       "      <td>-5.157596</td>\n",
       "      <td>-0.696010</td>\n",
       "      <td>1.285961</td>\n",
       "      <td>0.221919</td>\n",
       "      <td>0.609508</td>\n",
       "      <td>0.202874</td>\n",
       "      <td>-0.060791</td>\n",
       "      <td>-0.186733</td>\n",
       "      <td>-0.017401</td>\n",
       "      <td>-0.283751</td>\n",
       "      <td>0.395451</td>\n",
       "      <td>0.233139</td>\n",
       "      <td>0.009950</td>\n",
       "      <td>1</td>\n",
       "    </tr>\n",
       "    <tr>\n",
       "      <th>50317</th>\n",
       "      <td>44532.0</td>\n",
       "      <td>-0.234922</td>\n",
       "      <td>0.355413</td>\n",
       "      <td>1.972183</td>\n",
       "      <td>-1.255593</td>\n",
       "      <td>-0.681387</td>\n",
       "      <td>-0.665732</td>\n",
       "      <td>0.059110</td>\n",
       "      <td>-0.003153</td>\n",
       "      <td>1.122451</td>\n",
       "      <td>-1.481246</td>\n",
       "      <td>-0.473852</td>\n",
       "      <td>0.922184</td>\n",
       "      <td>0.913514</td>\n",
       "      <td>-0.499350</td>\n",
       "      <td>0.933898</td>\n",
       "      <td>-0.560472</td>\n",
       "      <td>-0.207707</td>\n",
       "      <td>0.380542</td>\n",
       "      <td>0.574336</td>\n",
       "      <td>-0.003469</td>\n",
       "      <td>0.220670</td>\n",
       "      <td>0.912107</td>\n",
       "      <td>-0.286338</td>\n",
       "      <td>0.451208</td>\n",
       "      <td>0.188315</td>\n",
       "      <td>-0.531846</td>\n",
       "      <td>0.123185</td>\n",
       "      <td>0.039581</td>\n",
       "      <td>0.009950</td>\n",
       "      <td>1</td>\n",
       "    </tr>\n",
       "    <tr>\n",
       "      <th>189684</th>\n",
       "      <td>128803.0</td>\n",
       "      <td>-2.272473</td>\n",
       "      <td>2.935226</td>\n",
       "      <td>-4.871394</td>\n",
       "      <td>2.419012</td>\n",
       "      <td>-1.513022</td>\n",
       "      <td>-0.480625</td>\n",
       "      <td>-2.126136</td>\n",
       "      <td>1.883507</td>\n",
       "      <td>-1.297262</td>\n",
       "      <td>-5.487425</td>\n",
       "      <td>2.969240</td>\n",
       "      <td>-3.055405</td>\n",
       "      <td>-0.316544</td>\n",
       "      <td>-7.862809</td>\n",
       "      <td>-2.202800</td>\n",
       "      <td>-1.932316</td>\n",
       "      <td>-2.284748</td>\n",
       "      <td>0.324787</td>\n",
       "      <td>-0.183181</td>\n",
       "      <td>-0.031085</td>\n",
       "      <td>0.718504</td>\n",
       "      <td>0.893850</td>\n",
       "      <td>-0.031632</td>\n",
       "      <td>0.322913</td>\n",
       "      <td>-0.058406</td>\n",
       "      <td>-0.411649</td>\n",
       "      <td>0.573803</td>\n",
       "      <td>0.176067</td>\n",
       "      <td>5.169973</td>\n",
       "      <td>1</td>\n",
       "    </tr>\n",
       "    <tr>\n",
       "      <th>43441</th>\n",
       "      <td>41582.0</td>\n",
       "      <td>-1.048005</td>\n",
       "      <td>1.300219</td>\n",
       "      <td>-0.180401</td>\n",
       "      <td>2.589843</td>\n",
       "      <td>-1.164794</td>\n",
       "      <td>0.031823</td>\n",
       "      <td>-2.175778</td>\n",
       "      <td>0.699072</td>\n",
       "      <td>-1.140208</td>\n",
       "      <td>-3.226787</td>\n",
       "      <td>3.490805</td>\n",
       "      <td>-2.454339</td>\n",
       "      <td>0.177189</td>\n",
       "      <td>-5.160608</td>\n",
       "      <td>-0.686114</td>\n",
       "      <td>-3.996145</td>\n",
       "      <td>-4.695563</td>\n",
       "      <td>-1.819161</td>\n",
       "      <td>1.461080</td>\n",
       "      <td>0.644993</td>\n",
       "      <td>0.549014</td>\n",
       "      <td>0.624321</td>\n",
       "      <td>-0.136663</td>\n",
       "      <td>0.131738</td>\n",
       "      <td>0.030921</td>\n",
       "      <td>-0.176701</td>\n",
       "      <td>0.504898</td>\n",
       "      <td>0.069882</td>\n",
       "      <td>3.675288</td>\n",
       "      <td>1</td>\n",
       "    </tr>\n",
       "  </tbody>\n",
       "</table>\n",
       "<p>424916 rows × 31 columns</p>\n",
       "</div>"
      ],
      "text/plain": [
       "            Time        V1        V2        V3        V4        V5        V6  \\\n",
       "16261    27703.0  1.096641 -0.937955  0.040606 -0.442945 -1.171242 -1.090781   \n",
       "91812    63795.0  0.950017 -0.355874  1.153859  1.774125 -0.751259  0.630283   \n",
       "76417    56713.0  1.298983 -0.060712 -1.099515 -0.550183  2.021548  3.271188   \n",
       "162386  115560.0  1.912785 -0.146368 -2.247509  1.024694  1.056623 -0.008455   \n",
       "69631    53627.0 -1.400642  0.873911 -1.406248  0.287847  1.652653  3.710259   \n",
       "...          ...       ...       ...       ...       ...       ...       ...   \n",
       "262115  160791.0  2.132386  0.705608 -3.530759  0.514779  1.527175 -1.716268   \n",
       "53560    46149.0 -1.346509  2.132431 -1.854355  2.116998 -1.070378 -1.092671   \n",
       "50317    44532.0 -0.234922  0.355413  1.972183 -1.255593 -0.681387 -0.665732   \n",
       "189684  128803.0 -2.272473  2.935226 -4.871394  2.419012 -1.513022 -0.480625   \n",
       "43441    41582.0 -1.048005  1.300219 -0.180401  2.589843 -1.164794  0.031823   \n",
       "\n",
       "              V7        V8        V9       V10       V11       V12       V13  \\\n",
       "16261  -0.121653 -0.315367 -0.916113  0.631588 -0.543288 -0.302158  0.068302   \n",
       "91812  -0.427670  0.253150  1.205977 -0.455303 -1.063982  1.116629 -0.007528   \n",
       "76417  -0.523714  0.806044 -0.053725 -0.002810 -0.028487  0.074007  0.042800   \n",
       "162386  0.619514 -0.199528  0.046541  0.391997 -0.526846  0.490425 -0.225950   \n",
       "69631  -0.758589  0.844324 -0.897738 -0.273530 -0.532887  0.064645  0.186012   \n",
       "...          ...       ...       ...       ...       ...       ...       ...   \n",
       "262115  1.132791 -0.574214  0.128904 -1.000805 -0.191191 -0.323794 -0.572456   \n",
       "53560  -2.230986  1.036425 -1.895516 -3.364011  2.887048 -3.784460 -1.288904   \n",
       "50317   0.059110 -0.003153  1.122451 -1.481246 -0.473852  0.922184  0.913514   \n",
       "189684 -2.126136  1.883507 -1.297262 -5.487425  2.969240 -3.055405 -0.316544   \n",
       "43441  -2.175778  0.699072 -1.140208 -3.226787  3.490805 -2.454339  0.177189   \n",
       "\n",
       "             V14       V15       V16       V17       V18       V19       V20  \\\n",
       "16261   0.240078  0.893782 -1.298029  0.004342  0.935521 -0.808284 -0.168233   \n",
       "91812  -0.776570 -1.722405 -1.149380  0.762300 -1.370433  0.151311 -0.056154   \n",
       "76417   0.427425  1.246346  0.641489 -0.909985 -0.066957  0.252553  0.034262   \n",
       "162386  0.694570 -1.092594 -0.123544 -0.867601  0.318551  0.557634 -0.075738   \n",
       "69631   1.024593  1.390933  0.355408 -0.260985  0.733519  0.930472 -0.400842   \n",
       "...          ...       ...       ...       ...       ...       ...       ...   \n",
       "262115 -1.422064  0.314684 -0.387162  1.734742  0.610976 -0.221267 -0.211167   \n",
       "53560  -3.985626  0.531838 -2.603703 -5.157596 -0.696010  1.285961  0.221919   \n",
       "50317  -0.499350  0.933898 -0.560472 -0.207707  0.380542  0.574336 -0.003469   \n",
       "189684 -7.862809 -2.202800 -1.932316 -2.284748  0.324787 -0.183181 -0.031085   \n",
       "43441  -5.160608 -0.686114 -3.996145 -4.695563 -1.819161  1.461080  0.644993   \n",
       "\n",
       "             V21       V22       V23       V24       V25       V26       V27  \\\n",
       "16261  -0.293384 -0.732765 -0.092251  0.429221  0.208263  1.023854 -0.097505   \n",
       "91812  -0.371945 -0.734697  0.022356  0.091798  0.409512 -0.517723  0.080219   \n",
       "76417  -0.308157 -1.073421  0.096305  0.992562  0.366277  0.109467 -0.029908   \n",
       "162386  0.062836  0.175749 -0.260340 -1.439129  0.574862 -0.430474 -0.037771   \n",
       "69631   0.909730 -0.043558  0.214201  1.007881  0.173009 -0.187625 -0.090432   \n",
       "...          ...       ...       ...       ...       ...       ...       ...   \n",
       "262115  0.163739  0.703910 -0.245076  0.460049  0.920281 -0.216586 -0.026219   \n",
       "53560   0.609508  0.202874 -0.060791 -0.186733 -0.017401 -0.283751  0.395451   \n",
       "50317   0.220670  0.912107 -0.286338  0.451208  0.188315 -0.531846  0.123185   \n",
       "189684  0.718504  0.893850 -0.031632  0.322913 -0.058406 -0.411649  0.573803   \n",
       "43441   0.549014  0.624321 -0.136663  0.131738  0.030921 -0.176701  0.504898   \n",
       "\n",
       "             V28    Amount  Class  \n",
       "16261   0.032036  5.122534      0  \n",
       "91812   0.041000  4.355426      0  \n",
       "76417   0.013316  2.350422      0  \n",
       "162386 -0.071145  4.569750      0  \n",
       "69631  -0.346800  4.023743      0  \n",
       "...          ...       ...    ...  \n",
       "262115 -0.025001  0.009950      1  \n",
       "53560   0.233139  0.009950      1  \n",
       "50317   0.039581  0.009950      1  \n",
       "189684  0.176067  5.169973      1  \n",
       "43441   0.069882  3.675288      1  \n",
       "\n",
       "[424916 rows x 31 columns]"
      ]
     },
     "execution_count": 34,
     "metadata": {},
     "output_type": "execute_result"
    }
   ],
   "source": [
    "upsampled"
   ]
  },
  {
   "cell_type": "code",
   "execution_count": 35,
   "id": "2b18721f",
   "metadata": {},
   "outputs": [],
   "source": [
    "y_train = upsampled.Class\n",
    "X_train = upsampled.drop('Class', axis=1) \n",
    "\n",
    "upsampled = RandomForestClassifier(n_estimators = 100, max_features = 3).fit(X_train, y_train)\n",
    "\n",
    "upsampled_pred = upsampled.predict(x_test)"
   ]
  },
  {
   "cell_type": "code",
   "execution_count": 36,
   "id": "32834c21",
   "metadata": {},
   "outputs": [
    {
     "name": "stdout",
     "output_type": "stream",
     "text": [
      "accuracy: 0.9995347656910845\n",
      "precision: 0.9727272727272728\n",
      "recall: 0.781021897810219\n",
      "f1 score: 0.8663967611336033\n"
     ]
    }
   ],
   "source": [
    "print(\"accuracy: {}\".format(accuracy_score(y_test, upsampled_pred)))\n",
    "print(\"precision: {}\".format(precision_score(y_test, upsampled_pred)))\n",
    "print(\"recall: {}\".format(recall_score(y_test, upsampled_pred)))\n",
    "print(f\"f1 score: {f1_score(y_test, upsampled_pred)}\")"
   ]
  },
  {
   "cell_type": "markdown",
   "id": "f77f07e4",
   "metadata": {},
   "source": [
    "### Under Sampling"
   ]
  },
  {
   "cell_type": "markdown",
   "id": "0272c6f5",
   "metadata": {},
   "source": [
    "**Undersampling Approach:**<br>\n",
    "Undersampling involves removing copies from the majority class and can be a good choice when you have a ton of data to work with. In this analysis, we will use the resampling module from Scikit-Learn to randomly replicate samples from the majority class.\n",
    "\n",
    "This undersampling technique aims to address the imbalance in the dataset by reducing the number of instances from the majority class, providing a more balanced distribution between the two classes. It is a strategic approach to enhance the model's sensitivity to the minority class and improve overall predictive performance.\n"
   ]
  },
  {
   "cell_type": "code",
   "execution_count": 37,
   "id": "47c598fa",
   "metadata": {},
   "outputs": [
    {
     "data": {
      "text/plain": [
       "0    336\n",
       "1    336\n",
       "Name: Class, dtype: int64"
      ]
     },
     "execution_count": 37,
     "metadata": {},
     "output_type": "execute_result"
    }
   ],
   "source": [
    "# Downsample the non-fraudulent transactions to match the length of fraudulent transactions\n",
    "not_fraud_downsampled = resample(not_fraud,\n",
    "                                replace = False, \n",
    "                                n_samples = len(fraud),\n",
    "                                random_state = 27)\n",
    "\n",
    "downsampled = pd.concat([not_fraud_downsampled, fraud])\n",
    "\n",
    "downsampled.Class.value_counts()"
   ]
  },
  {
   "cell_type": "code",
   "execution_count": 38,
   "id": "5a7aaf70",
   "metadata": {},
   "outputs": [],
   "source": [
    "y_train = downsampled.Class\n",
    "x_train = downsampled.drop('Class', axis=1)\n",
    "\n",
    "undersampled = RandomForestClassifier(n_estimators = 100, max_features = 3).fit(x_train, y_train)\n",
    "\n",
    "undersampled_pred = undersampled.predict(x_test)"
   ]
  },
  {
   "cell_type": "code",
   "execution_count": 39,
   "id": "436dc66c",
   "metadata": {},
   "outputs": [
    {
     "name": "stdout",
     "output_type": "stream",
     "text": [
      "accuracy: 0.9995347656910845\n",
      "precision: 0.9727272727272728\n",
      "recall: 0.781021897810219\n",
      "f1 score: 0.8663967611336033\n"
     ]
    }
   ],
   "source": [
    "print(\"accuracy: {}\".format(accuracy_score(y_test, upsampled_pred)))\n",
    "print(\"precision: {}\".format(precision_score(y_test, upsampled_pred)))\n",
    "print(\"recall: {}\".format(recall_score(y_test, upsampled_pred)))\n",
    "print(f\"f1 score: {f1_score(y_test, upsampled_pred)}\")"
   ]
  },
  {
   "cell_type": "markdown",
   "id": "96f53d4f",
   "metadata": {},
   "source": [
    "**Impact of Class Imbalance Techniques on Random Forest Model:**<br>\n",
    "Comparing the results of the Random Forest Model across unbalanced, oversampling, and undersampling scenarios reveals noteworthy improvements when addressing class imbalance. The unbalanced data model already demonstrates high performance, but both oversampling and undersampling models achieve slightly higher accuracy, precision, recall, and F1 score.\n",
    "\n",
    "Specifically, the oversampling and undersampling models exhibit improved precision and recall, indicating an enhanced ability to identify both positive and negative instances. This finding highlights the positive impact of addressing class imbalance through resampling techniques, contributing to a more balanced and effective Random Forest Model.\n"
   ]
  },
  {
   "cell_type": "markdown",
   "id": "f45f64ec",
   "metadata": {},
   "source": [
    "## Conclusion"
   ]
  },
  {
   "cell_type": "markdown",
   "id": "12a331f5",
   "metadata": {},
   "source": [
    "The analysis of the Random Forest Model for fraud detection involved a comprehensive exploration of data characteristics, model performance, and strategies for addressing class imbalance. The dataset, comprising confidential features, demonstrated robustness with a clear class distinction, setting the stage for effective machine learning. Feature importance analysis highlighted key variables, emphasizing their pivotal role in influencing the model's decisions.\n",
    "\n",
    "In conclusion, the Random Forest Model proved to be a powerful tool for fraud detection, demonstrating adaptability to various scenarios. The meticulous consideration of feature importance, privacy concerns, and class imbalance optimization contributes to a well-balanced and effective model, offering actionable insights for real-world applications in fraud detection."
   ]
  }
 ],
 "metadata": {
  "kernelspec": {
   "display_name": "Python 3 (ipykernel)",
   "language": "python",
   "name": "python3"
  },
  "language_info": {
   "codemirror_mode": {
    "name": "ipython",
    "version": 3
   },
   "file_extension": ".py",
   "mimetype": "text/x-python",
   "name": "python",
   "nbconvert_exporter": "python",
   "pygments_lexer": "ipython3",
   "version": "3.11.5"
  }
 },
 "nbformat": 4,
 "nbformat_minor": 5
}
